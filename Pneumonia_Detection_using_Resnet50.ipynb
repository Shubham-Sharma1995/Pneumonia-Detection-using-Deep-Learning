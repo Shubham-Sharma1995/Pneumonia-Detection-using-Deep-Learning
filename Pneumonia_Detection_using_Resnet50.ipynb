{
  "nbformat": 4,
  "nbformat_minor": 0,
  "metadata": {
    "colab": {
      "name": "Pneumonia_Detection_using_Resnet50.ipynb",
      "provenance": [],
      "collapsed_sections": [],
      "include_colab_link": true
    },
    "kernelspec": {
      "name": "python3",
      "display_name": "Python 3"
    },
    "language_info": {
      "name": "python"
    }
  },
  "cells": [
    {
      "cell_type": "markdown",
      "metadata": {
        "id": "view-in-github",
        "colab_type": "text"
      },
      "source": [
        "<a href=\"https://colab.research.google.com/github/Shubham33320/Pneumonia-Detection-using-Deep-Learning/blob/main/Pneumonia_Detection_using_Resnet50.ipynb\" target=\"_parent\"><img src=\"https://colab.research.google.com/assets/colab-badge.svg\" alt=\"Open In Colab\"/></a>"
      ]
    },
    {
      "cell_type": "code",
      "metadata": {
        "id": "mGeyOSnGGDfC"
      },
      "source": [
        "import matplotlib.pyplot as plt\n",
        "import numpy as np\n",
        "from glob import glob\n",
        "import os\n",
        "import PIL\n",
        "from PIL import Image\n",
        "import tensorflow as tf\n",
        "from tensorflow import keras\n",
        "from tensorflow.keras import layers\n",
        "from tensorflow.python.keras.layers import Dense, Flatten\n",
        "from tensorflow.keras.models import Sequential\n",
        "from tensorflow.keras.optimizers import Adam\n",
        "from keras.preprocessing import image"
      ],
      "execution_count": 1,
      "outputs": []
    },
    {
      "cell_type": "code",
      "metadata": {
        "colab": {
          "base_uri": "https://localhost:8080/"
        },
        "id": "MwgWYxhwyqaF",
        "outputId": "0ad83f6d-936c-42dd-8574-6ede3a88786a"
      },
      "source": [
        "from google.colab import drive\n",
        "drive.mount('/content/drive')"
      ],
      "execution_count": 2,
      "outputs": [
        {
          "output_type": "stream",
          "name": "stdout",
          "text": [
            "Mounted at /content/drive\n"
          ]
        }
      ]
    },
    {
      "cell_type": "code",
      "metadata": {
        "colab": {
          "base_uri": "https://localhost:8080/"
        },
        "id": "8faYxZHer-WQ",
        "outputId": "58d51d12-5f33-4d2a-abd7-7b48007f9017"
      },
      "source": [
        "!nvidia-smi"
      ],
      "execution_count": 3,
      "outputs": [
        {
          "output_type": "stream",
          "name": "stdout",
          "text": [
            "NVIDIA-SMI has failed because it couldn't communicate with the NVIDIA driver. Make sure that the latest NVIDIA driver is installed and running.\n",
            "\n"
          ]
        }
      ]
    },
    {
      "cell_type": "code",
      "metadata": {
        "colab": {
          "base_uri": "https://localhost:8080/"
        },
        "id": "NkIXsoUSL_Jo",
        "outputId": "c63e8db9-8e93-45de-ffac-2ce20a67a867"
      },
      "source": [
        "img_height,img_width= 256,256\n",
        "\n",
        "train_ds=tf.keras.preprocessing.image_dataset_from_directory(directory= '/content/drive/MyDrive/chest_xray/train',\n",
        "validation_split=0.2,\n",
        "subset=\"training\",\n",
        "seed=123,\n",
        "label_mode='categorical',\n",
        "image_size=(img_height,img_width),\n",
        "batch_size=12)"
      ],
      "execution_count": 4,
      "outputs": [
        {
          "output_type": "stream",
          "name": "stdout",
          "text": [
            "Found 5216 files belonging to 2 classes.\n",
            "Using 4173 files for training.\n"
          ]
        }
      ]
    },
    {
      "cell_type": "code",
      "metadata": {
        "colab": {
          "base_uri": "https://localhost:8080/"
        },
        "id": "qHwJCzDUPgkY",
        "outputId": "d6fc4fff-f535-4e9f-dee9-6c3cc654ea5c"
      },
      "source": [
        "val_ds=tf.keras.preprocessing.image_dataset_from_directory(directory= '/content/drive/MyDrive/chest_xray/train',\n",
        "validation_split=0.2,\n",
        "subset=\"validation\",\n",
        "seed=123,\n",
        "label_mode='categorical',\n",
        "image_size=(img_height,img_width),\n",
        "batch_size=12)"
      ],
      "execution_count": 5,
      "outputs": [
        {
          "output_type": "stream",
          "name": "stdout",
          "text": [
            "Found 5216 files belonging to 2 classes.\n",
            "Using 1043 files for validation.\n"
          ]
        }
      ]
    },
    {
      "cell_type": "code",
      "metadata": {
        "colab": {
          "base_uri": "https://localhost:8080/"
        },
        "id": "frWDNjU7UPEv",
        "outputId": "1e0b37d1-e40c-4c9f-9e2d-21e5a4a5c5a9"
      },
      "source": [
        "class_names=train_ds.class_names\n",
        "print(class_names)"
      ],
      "execution_count": 6,
      "outputs": [
        {
          "output_type": "stream",
          "name": "stdout",
          "text": [
            "['NORMAL', 'PNEUMONIA']\n"
          ]
        }
      ]
    },
    {
      "cell_type": "code",
      "metadata": {
        "id": "1ZETplUtUaP-",
        "colab": {
          "base_uri": "https://localhost:8080/"
        },
        "outputId": "949c4189-4f06-49ac-e29d-1d969382fefc"
      },
      "source": [
        "resnet_model= Sequential()\n",
        "\n",
        "pretrained_model= tf.keras.applications.ResNet50(include_top=False,\n",
        "                                                 input_shape=(256,256,3),\n",
        "                                                 pooling= 'avg',classes=5,weights='imagenet')\n",
        "\n",
        "for layer in pretrained_model.layers:\n",
        "  layer.trainable=False\n",
        "\n",
        "resnet_model.add(pretrained_model)\n",
        "resnet_model.add(Flatten())\n",
        "resnet_model.add(Dense(512,activation='relu'))\n",
        "resnet_model.add(Dense(2,activation='softmax'))\n"
      ],
      "execution_count": 7,
      "outputs": [
        {
          "output_type": "stream",
          "name": "stdout",
          "text": [
            "Downloading data from https://storage.googleapis.com/tensorflow/keras-applications/resnet/resnet50_weights_tf_dim_ordering_tf_kernels_notop.h5\n",
            "94773248/94765736 [==============================] - 1s 0us/step\n",
            "94781440/94765736 [==============================] - 1s 0us/step\n"
          ]
        }
      ]
    },
    {
      "cell_type": "code",
      "metadata": {
        "colab": {
          "base_uri": "https://localhost:8080/"
        },
        "id": "b3x0e1oraQS_",
        "outputId": "54c8dce4-3ea8-49fb-cf16-78f4d4d3a936"
      },
      "source": [
        "resnet_model.summary()"
      ],
      "execution_count": 8,
      "outputs": [
        {
          "output_type": "stream",
          "name": "stdout",
          "text": [
            "Model: \"sequential\"\n",
            "_________________________________________________________________\n",
            " Layer (type)                Output Shape              Param #   \n",
            "=================================================================\n",
            " resnet50 (Functional)       (None, 2048)              23587712  \n",
            "                                                                 \n",
            " module_wrapper (ModuleWrapp  (None, 2048)             0         \n",
            " er)                                                             \n",
            "                                                                 \n",
            " module_wrapper_1 (ModuleWra  (None, 512)              1049088   \n",
            " pper)                                                           \n",
            "                                                                 \n",
            " module_wrapper_2 (ModuleWra  (None, 2)                1026      \n",
            " pper)                                                           \n",
            "                                                                 \n",
            "=================================================================\n",
            "Total params: 24,637,826\n",
            "Trainable params: 1,050,114\n",
            "Non-trainable params: 23,587,712\n",
            "_________________________________________________________________\n"
          ]
        }
      ]
    },
    {
      "cell_type": "code",
      "metadata": {
        "colab": {
          "base_uri": "https://localhost:8080/"
        },
        "id": "ePKhIcARafC1",
        "outputId": "901db735-fe52-4a02-b314-cfd35ad7663f"
      },
      "source": [
        "resnet_model.compile(optimizer=Adam(lr=0.001),loss='categorical_crossentropy',metrics=['accuracy'])\n"
      ],
      "execution_count": 9,
      "outputs": [
        {
          "output_type": "stream",
          "name": "stderr",
          "text": [
            "/usr/local/lib/python3.7/dist-packages/keras/optimizer_v2/adam.py:105: UserWarning: The `lr` argument is deprecated, use `learning_rate` instead.\n",
            "  super(Adam, self).__init__(name, **kwargs)\n"
          ]
        }
      ]
    },
    {
      "cell_type": "code",
      "metadata": {
        "colab": {
          "base_uri": "https://localhost:8080/"
        },
        "id": "ULToLHq2bd9t",
        "outputId": "d698e1cc-beb3-43da-f85d-20bb6824f8b6"
      },
      "source": [
        "epochs=10\n",
        "history=resnet_model.fit(x=train_ds,validation_data=val_ds,epochs=epochs)"
      ],
      "execution_count": 11,
      "outputs": [
        {
          "output_type": "stream",
          "name": "stdout",
          "text": [
            "Epoch 1/10\n",
            "348/348 [==============================] - 1119s 3s/step - loss: 0.0956 - accuracy: 0.9624 - val_loss: 0.1586 - val_accuracy: 0.9425\n",
            "Epoch 2/10\n",
            "348/348 [==============================] - 1100s 3s/step - loss: 0.0691 - accuracy: 0.9727 - val_loss: 0.0599 - val_accuracy: 0.9770\n",
            "Epoch 3/10\n",
            "348/348 [==============================] - 1091s 3s/step - loss: 0.0533 - accuracy: 0.9794 - val_loss: 0.0472 - val_accuracy: 0.9789\n",
            "Epoch 4/10\n",
            "348/348 [==============================] - 1092s 3s/step - loss: 0.0473 - accuracy: 0.9823 - val_loss: 0.0680 - val_accuracy: 0.9703\n",
            "Epoch 5/10\n",
            "348/348 [==============================] - 1094s 3s/step - loss: 0.0485 - accuracy: 0.9801 - val_loss: 0.0816 - val_accuracy: 0.9626\n",
            "Epoch 6/10\n",
            "348/348 [==============================] - 2730s 8s/step - loss: 0.0442 - accuracy: 0.9811 - val_loss: 0.0520 - val_accuracy: 0.9751\n",
            "Epoch 7/10\n",
            "348/348 [==============================] - 1086s 3s/step - loss: 0.0350 - accuracy: 0.9851 - val_loss: 0.1723 - val_accuracy: 0.9501\n",
            "Epoch 8/10\n",
            "348/348 [==============================] - 1088s 3s/step - loss: 0.0268 - accuracy: 0.9904 - val_loss: 0.0632 - val_accuracy: 0.9751\n",
            "Epoch 9/10\n",
            "348/348 [==============================] - 1085s 3s/step - loss: 0.0235 - accuracy: 0.9904 - val_loss: 0.1401 - val_accuracy: 0.9559\n",
            "Epoch 10/10\n",
            "348/348 [==============================] - 1088s 3s/step - loss: 0.0586 - accuracy: 0.9792 - val_loss: 0.0759 - val_accuracy: 0.9693\n"
          ]
        }
      ]
    },
    {
      "cell_type": "code",
      "metadata": {
        "colab": {
          "base_uri": "https://localhost:8080/",
          "height": 295
        },
        "id": "3dZw4bmthqss",
        "outputId": "c60de2cc-43e7-4d1a-efa5-1c2ab05200be"
      },
      "source": [
        "  fig1=plt.gcf()\n",
        "  plt.plot(history.history['accuracy'])\n",
        "  plt.plot(history.history['val_accuracy'])\n",
        "  plt.axis(ymin=0.4,ymax=1)\n",
        "  plt.grid()\n",
        "  plt.title('Model Accuracy')\n",
        "  plt.ylabel(\"Accuracy\")\n",
        "  plt.xlabel('Epochs')\n",
        "  plt.legend(['train','validation'])\n",
        "  plt.show()"
      ],
      "execution_count": 12,
      "outputs": [
        {
          "output_type": "display_data",
          "data": {
            "image/png": "[encoded data removed]",
            "text/plain": [
              "<Figure size 432x288 with 1 Axes>"
            ]
          },
          "metadata": {
            "needs_background": "light"
          }
        }
      ]
    },
    {
      "cell_type": "code",
      "metadata": {
        "colab": {
          "base_uri": "https://localhost:8080/",
          "height": 295
        },
        "id": "ZRrWwOfjdCH1",
        "outputId": "0723abc5-75f6-45fc-e2ef-2467b2b3437a"
      },
      "source": [
        "\n",
        "plt.plot(history.history['loss'])\n",
        "plt.plot(history.history['val_loss'])\n",
        "plt.axis(ymin=0,ymax=1)\n",
        "plt.grid()\n",
        "plt.title('Model Loss')\n",
        "plt.ylabel(\"Loss\")\n",
        "plt.xlabel('Epochs')\n",
        "plt.legend(['train','validation'])\n",
        "plt.show()"
      ],
      "execution_count": 13,
      "outputs": [
        {
          "output_type": "display_data",
          "data": {
            "image/png": "[encoded data removed]",
            "text/plain": [
              "<Figure size 432x288 with 1 Axes>"
            ]
          },
          "metadata": {
            "needs_background": "light"
          }
        }
      ]
    },
    {
      "cell_type": "markdown",
      "metadata": {
        "id": "4xmMbQpQqbbF"
      },
      "source": [
        "##Making Predictions"
      ]
    },
    {
      "cell_type": "code",
      "metadata": {
        "colab": {
          "base_uri": "https://localhost:8080/"
        },
        "id": "LAtSO6R-clot",
        "outputId": "8c89ea3c-b4ac-4d3f-95a6-3b68e9f78008"
      },
      "source": [
        "import cv2\n",
        "image= cv2.imread(\"/content/drive/MyDrive/chest_xray/test/NORMAL/IM-0003-0001.jpeg\")\n",
        "image_resized=cv2.resize(image,(img_height,img_width))\n",
        "image=np.expand_dims(image_resized,axis=0)\n",
        "print(image.shape)"
      ],
      "execution_count": 14,
      "outputs": [
        {
          "output_type": "stream",
          "name": "stdout",
          "text": [
            "(1, 256, 256, 3)\n"
          ]
        }
      ]
    },
    {
      "cell_type": "code",
      "metadata": {
        "colab": {
          "base_uri": "https://localhost:8080/"
        },
        "id": "mxfPt5k6q9xz",
        "outputId": "2ae155c8-8aed-4f88-d991-c017fe675b59"
      },
      "source": [
        "pred=resnet_model.predict(image)\n",
        "print(pred)"
      ],
      "execution_count": 15,
      "outputs": [
        {
          "output_type": "stream",
          "name": "stdout",
          "text": [
            "[[0.9975406  0.00245937]]\n"
          ]
        }
      ]
    },
    {
      "cell_type": "code",
      "metadata": {
        "colab": {
          "base_uri": "https://localhost:8080/"
        },
        "id": "igHRiKWcrCLr",
        "outputId": "10a14b58-92f3-49bf-971f-d5941c83324c"
      },
      "source": [
        "output_class=class_names[np.argmax(pred)]\n",
        "print(\"THE PREDICTED CLASS IS\",output_class)"
      ],
      "execution_count": 16,
      "outputs": [
        {
          "output_type": "stream",
          "name": "stdout",
          "text": [
            "THE PREDICTED CLASS IS NORMAL\n"
          ]
        }
      ]
    }
  ]
}